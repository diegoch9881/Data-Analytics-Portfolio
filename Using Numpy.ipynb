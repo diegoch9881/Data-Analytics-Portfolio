{
 "cells": [
  {
   "cell_type": "code",
   "execution_count": 1,
   "id": "26fdb657-70c2-4b3e-af39-39cde6c8f527",
   "metadata": {},
   "outputs": [],
   "source": [
    "my_list = [1,2,3]"
   ]
  },
  {
   "cell_type": "code",
   "execution_count": 2,
   "id": "5852c629-9b84-4a44-8e0e-4e1d4c063e72",
   "metadata": {},
   "outputs": [],
   "source": [
    "import numpy as np"
   ]
  },
  {
   "cell_type": "code",
   "execution_count": 3,
   "id": "dd146a79-870f-4aa7-b868-c8524e5b7275",
   "metadata": {},
   "outputs": [],
   "source": [
    "arr = np.array(my_list)"
   ]
  },
  {
   "cell_type": "code",
   "execution_count": 4,
   "id": "c8fd5e46-6b60-415c-88d5-3db672ec7545",
   "metadata": {},
   "outputs": [
    {
     "data": {
      "text/plain": [
       "array([1, 2, 3])"
      ]
     },
     "execution_count": 4,
     "metadata": {},
     "output_type": "execute_result"
    }
   ],
   "source": [
    "arr"
   ]
  },
  {
   "cell_type": "code",
   "execution_count": 5,
   "id": "b76e2a9f-59f3-4222-9fcf-481d6d5cbd49",
   "metadata": {},
   "outputs": [],
   "source": [
    "my_notes = [[1,3,4],[2,4,3],[2,3,3]]"
   ]
  },
  {
   "cell_type": "code",
   "execution_count": 6,
   "id": "b3521f55-9fbb-4e02-b3b8-e0815c50fddb",
   "metadata": {},
   "outputs": [
    {
     "data": {
      "text/plain": [
       "array([[1, 3, 4],\n",
       "       [2, 4, 3],\n",
       "       [2, 3, 3]])"
      ]
     },
     "execution_count": 6,
     "metadata": {},
     "output_type": "execute_result"
    }
   ],
   "source": [
    "np.array(my_notes)"
   ]
  },
  {
   "cell_type": "code",
   "execution_count": 7,
   "id": "ef3a8a6a-e63d-474a-b8b2-adff1bda97a7",
   "metadata": {},
   "outputs": [
    {
     "data": {
      "text/plain": [
       "array([ 0,  1,  2,  3,  4,  5,  6,  7,  8,  9, 10])"
      ]
     },
     "execution_count": 7,
     "metadata": {},
     "output_type": "execute_result"
    }
   ],
   "source": [
    "np.arange(0,11)"
   ]
  },
  {
   "cell_type": "code",
   "execution_count": 9,
   "id": "953ae76b-1dfb-436c-9987-43b22f23aab6",
   "metadata": {},
   "outputs": [
    {
     "data": {
      "text/plain": [
       "array([[0., 0., 0.],\n",
       "       [0., 0., 0.]])"
      ]
     },
     "execution_count": 9,
     "metadata": {},
     "output_type": "execute_result"
    }
   ],
   "source": [
    "np.zeros((2,3))"
   ]
  },
  {
   "cell_type": "code",
   "execution_count": 10,
   "id": "3a582063-30c0-4322-afc0-eb06a6d8d72c",
   "metadata": {},
   "outputs": [
    {
     "data": {
      "text/plain": [
       "array([[1., 1., 1., 1., 1.],\n",
       "       [1., 1., 1., 1., 1.],\n",
       "       [1., 1., 1., 1., 1.]])"
      ]
     },
     "execution_count": 10,
     "metadata": {},
     "output_type": "execute_result"
    }
   ],
   "source": [
    "np.ones((3,5))"
   ]
  },
  {
   "cell_type": "code",
   "execution_count": 11,
   "id": "0858e49a-d7d5-4f18-ad24-854804a97e43",
   "metadata": {},
   "outputs": [
    {
     "data": {
      "text/plain": [
       "array([ 2,  5,  8, 11, 14, 17, 20, 23, 26, 29])"
      ]
     },
     "execution_count": 11,
     "metadata": {},
     "output_type": "execute_result"
    }
   ],
   "source": [
    "np.arange(2,32,3)"
   ]
  },
  {
   "cell_type": "code",
   "execution_count": 12,
   "id": "8b8026e1-835c-4828-824c-4b1db5d3fab5",
   "metadata": {},
   "outputs": [
    {
     "data": {
      "text/plain": [
       "array([ 2.        ,  7.16666667, 12.33333333, 17.5       , 22.66666667,\n",
       "       27.83333333, 33.        ])"
      ]
     },
     "execution_count": 12,
     "metadata": {},
     "output_type": "execute_result"
    }
   ],
   "source": [
    "np.linspace(2,33,7)"
   ]
  },
  {
   "cell_type": "code",
   "execution_count": 13,
   "id": "7899c28a-8b99-4742-90c0-2218a5ec9cc7",
   "metadata": {},
   "outputs": [
    {
     "data": {
      "text/plain": [
       "array([[1., 0., 0., 0., 0., 0.],\n",
       "       [0., 1., 0., 0., 0., 0.],\n",
       "       [0., 0., 1., 0., 0., 0.],\n",
       "       [0., 0., 0., 1., 0., 0.],\n",
       "       [0., 0., 0., 0., 1., 0.],\n",
       "       [0., 0., 0., 0., 0., 1.]])"
      ]
     },
     "execution_count": 13,
     "metadata": {},
     "output_type": "execute_result"
    }
   ],
   "source": [
    "np.eye(6)"
   ]
  },
  {
   "cell_type": "code",
   "execution_count": 14,
   "id": "9cadf834-f003-4a93-867f-c6c97bb0ef6c",
   "metadata": {},
   "outputs": [
    {
     "data": {
      "text/plain": [
       "array([0.72481139, 0.554642  , 0.25028275])"
      ]
     },
     "execution_count": 14,
     "metadata": {},
     "output_type": "execute_result"
    }
   ],
   "source": [
    "np.random.rand(3)"
   ]
  },
  {
   "cell_type": "code",
   "execution_count": 15,
   "id": "a9dd692f-9344-4224-9a07-982eeb74d572",
   "metadata": {},
   "outputs": [
    {
     "data": {
      "text/plain": [
       "array([[0.56693296, 0.86031664],\n",
       "       [0.43690413, 0.34640312],\n",
       "       [0.01624563, 0.81824831]])"
      ]
     },
     "execution_count": 15,
     "metadata": {},
     "output_type": "execute_result"
    }
   ],
   "source": [
    "np.random.rand(3,2)"
   ]
  },
  {
   "cell_type": "code",
   "execution_count": 16,
   "id": "bf201e92-17c6-4ee2-8126-3f69def1896d",
   "metadata": {},
   "outputs": [
    {
     "data": {
      "text/plain": [
       "array([15,  5, 12,  5])"
      ]
     },
     "execution_count": 16,
     "metadata": {},
     "output_type": "execute_result"
    }
   ],
   "source": [
    "np.random.randint(3,20,4)"
   ]
  },
  {
   "cell_type": "code",
   "execution_count": 20,
   "id": "14ec0b93-784d-4de5-bee9-e3f14c47a60f",
   "metadata": {},
   "outputs": [],
   "source": [
    "x = np.arange(22)"
   ]
  },
  {
   "cell_type": "code",
   "execution_count": 21,
   "id": "768c5b30-0725-4d5e-a3b0-bc186aa8ca58",
   "metadata": {},
   "outputs": [
    {
     "data": {
      "text/plain": [
       "array([ 0,  1,  2,  3,  4,  5,  6,  7,  8,  9, 10, 11, 12, 13, 14, 15, 16,\n",
       "       17, 18, 19, 20, 21])"
      ]
     },
     "execution_count": 21,
     "metadata": {},
     "output_type": "execute_result"
    }
   ],
   "source": [
    "x"
   ]
  },
  {
   "cell_type": "code",
   "execution_count": 22,
   "id": "3f73caf5-5716-4d1b-b8c4-c53e19a35451",
   "metadata": {},
   "outputs": [
    {
     "data": {
      "text/plain": [
       "array([[ 0,  1,  2,  3,  4,  5,  6,  7,  8,  9, 10],\n",
       "       [11, 12, 13, 14, 15, 16, 17, 18, 19, 20, 21]])"
      ]
     },
     "execution_count": 22,
     "metadata": {},
     "output_type": "execute_result"
    }
   ],
   "source": [
    "x.reshape(2,11)"
   ]
  },
  {
   "cell_type": "code",
   "execution_count": 23,
   "id": "211c89c6-5664-466d-bffc-e04707d52954",
   "metadata": {},
   "outputs": [
    {
     "data": {
      "text/plain": [
       "21"
      ]
     },
     "execution_count": 23,
     "metadata": {},
     "output_type": "execute_result"
    }
   ],
   "source": [
    "x.max()"
   ]
  },
  {
   "cell_type": "code",
   "execution_count": 24,
   "id": "c733c9a4-55cc-4633-9e2e-a8f1db7a0312",
   "metadata": {},
   "outputs": [
    {
     "data": {
      "text/plain": [
       "0"
      ]
     },
     "execution_count": 24,
     "metadata": {},
     "output_type": "execute_result"
    }
   ],
   "source": [
    "x.min()"
   ]
  },
  {
   "cell_type": "code",
   "execution_count": 26,
   "id": "f5a11407-b43f-42bf-9e29-1e0f1860c268",
   "metadata": {},
   "outputs": [
    {
     "data": {
      "text/plain": [
       "21"
      ]
     },
     "execution_count": 26,
     "metadata": {},
     "output_type": "execute_result"
    }
   ],
   "source": [
    "x.argmax()"
   ]
  },
  {
   "cell_type": "code",
   "execution_count": 27,
   "id": "a3feecb8-d6d5-4498-a566-900dc86fc1b7",
   "metadata": {},
   "outputs": [],
   "source": [
    "#siguiente clase"
   ]
  },
  {
   "cell_type": "code",
   "execution_count": 28,
   "id": "b1a9bb7e-dc53-4679-a2e7-08fb71e185c6",
   "metadata": {},
   "outputs": [],
   "source": [
    "new_list= np.arange(0,12)"
   ]
  },
  {
   "cell_type": "code",
   "execution_count": 29,
   "id": "b101e105-90a0-4b92-a253-65c5c7b5abc1",
   "metadata": {},
   "outputs": [
    {
     "data": {
      "text/plain": [
       "array([ 0,  1,  2,  3,  4,  5,  6,  7,  8,  9, 10, 11])"
      ]
     },
     "execution_count": 29,
     "metadata": {},
     "output_type": "execute_result"
    }
   ],
   "source": [
    "new_list"
   ]
  },
  {
   "cell_type": "code",
   "execution_count": 30,
   "id": "48941be3-6878-4ed0-bd1f-27cd3e19c84d",
   "metadata": {},
   "outputs": [
    {
     "data": {
      "text/plain": [
       "array([0, 1, 2, 3, 4, 5, 6, 7, 8])"
      ]
     },
     "execution_count": 30,
     "metadata": {},
     "output_type": "execute_result"
    }
   ],
   "source": [
    "new_list[:9]"
   ]
  },
  {
   "cell_type": "code",
   "execution_count": 31,
   "id": "b63e9cd5-48c7-41f9-a347-c2f7a0cb0333",
   "metadata": {},
   "outputs": [
    {
     "data": {
      "text/plain": [
       "array([2, 3])"
      ]
     },
     "execution_count": 31,
     "metadata": {},
     "output_type": "execute_result"
    }
   ],
   "source": [
    "new_list[2:4]"
   ]
  },
  {
   "cell_type": "code",
   "execution_count": 32,
   "id": "d530ff6c-531c-4df4-9c15-1f46c6740f69",
   "metadata": {},
   "outputs": [],
   "source": [
    "#recuerda el index"
   ]
  },
  {
   "cell_type": "code",
   "execution_count": 33,
   "id": "dbd48487-4e58-47bc-8ff9-96ed5d71ed65",
   "metadata": {},
   "outputs": [
    {
     "data": {
      "text/plain": [
       "array([ True,  True,  True,  True,  True,  True,  True,  True, False,\n",
       "       False, False, False])"
      ]
     },
     "execution_count": 33,
     "metadata": {},
     "output_type": "execute_result"
    }
   ],
   "source": [
    "new_list < 8"
   ]
  },
  {
   "cell_type": "code",
   "execution_count": 34,
   "id": "e2971902-0456-4438-8200-26d3af3a04b8",
   "metadata": {},
   "outputs": [],
   "source": [
    "neww = np.arange(0,50).reshape(5,10)"
   ]
  },
  {
   "cell_type": "code",
   "execution_count": 35,
   "id": "15233d6c-0e30-43fe-822f-06ca169b394f",
   "metadata": {},
   "outputs": [
    {
     "data": {
      "text/plain": [
       "array([[ 0,  1,  2,  3,  4,  5,  6,  7,  8,  9],\n",
       "       [10, 11, 12, 13, 14, 15, 16, 17, 18, 19],\n",
       "       [20, 21, 22, 23, 24, 25, 26, 27, 28, 29],\n",
       "       [30, 31, 32, 33, 34, 35, 36, 37, 38, 39],\n",
       "       [40, 41, 42, 43, 44, 45, 46, 47, 48, 49]])"
      ]
     },
     "execution_count": 35,
     "metadata": {},
     "output_type": "execute_result"
    }
   ],
   "source": [
    "neww"
   ]
  },
  {
   "cell_type": "code",
   "execution_count": 39,
   "id": "d5f5dd6d-8f05-4fe2-8d36-be2812cbaba7",
   "metadata": {},
   "outputs": [
    {
     "data": {
      "text/plain": [
       "array([[33, 34]])"
      ]
     },
     "execution_count": 39,
     "metadata": {},
     "output_type": "execute_result"
    }
   ],
   "source": [
    "neww[3:4,3:5]"
   ]
  },
  {
   "cell_type": "code",
   "execution_count": 42,
   "id": "58e53bba-f5d4-4a56-be04-1b7c0c5b2cf2",
   "metadata": {},
   "outputs": [
    {
     "data": {
      "text/plain": [
       "array([[47, 48]])"
      ]
     },
     "execution_count": 42,
     "metadata": {},
     "output_type": "execute_result"
    }
   ],
   "source": [
    "neww[4:7,7:9]"
   ]
  },
  {
   "cell_type": "code",
   "execution_count": 43,
   "id": "0167e100-17ae-4ec3-b0e7-5ab31228e0e4",
   "metadata": {},
   "outputs": [],
   "source": [
    "#NUMPY OPERATIONS"
   ]
  },
  {
   "cell_type": "code",
   "execution_count": 44,
   "id": "5c7bb1c7-6da8-41cb-aa3c-7edace15a3e8",
   "metadata": {},
   "outputs": [
    {
     "data": {
      "text/plain": [
       "array([[-20, -19, -18, -17, -16, -15, -14, -13, -12, -11],\n",
       "       [-10,  -9,  -8,  -7,  -6,  -5,  -4,  -3,  -2,  -1],\n",
       "       [  0,   1,   2,   3,   4,   5,   6,   7,   8,   9],\n",
       "       [ 10,  11,  12,  13,  14,  15,  16,  17,  18,  19],\n",
       "       [ 20,  21,  22,  23,  24,  25,  26,  27,  28,  29]])"
      ]
     },
     "execution_count": 44,
     "metadata": {},
     "output_type": "execute_result"
    }
   ],
   "source": [
    "neww - 20"
   ]
  },
  {
   "cell_type": "code",
   "execution_count": 45,
   "id": "afe9cee9-3f54-4c83-838c-ca8d2399aa0e",
   "metadata": {},
   "outputs": [
    {
     "name": "stderr",
     "output_type": "stream",
     "text": [
      "C:\\Users\\Diego\\AppData\\Local\\Temp\\ipykernel_8756\\1469307956.py:1: RuntimeWarning: invalid value encountered in divide\n",
      "  neww / neww\n"
     ]
    },
    {
     "data": {
      "text/plain": [
       "array([[nan,  1.,  1.,  1.,  1.,  1.,  1.,  1.,  1.,  1.],\n",
       "       [ 1.,  1.,  1.,  1.,  1.,  1.,  1.,  1.,  1.,  1.],\n",
       "       [ 1.,  1.,  1.,  1.,  1.,  1.,  1.,  1.,  1.,  1.],\n",
       "       [ 1.,  1.,  1.,  1.,  1.,  1.,  1.,  1.,  1.,  1.],\n",
       "       [ 1.,  1.,  1.,  1.,  1.,  1.,  1.,  1.,  1.,  1.]])"
      ]
     },
     "execution_count": 45,
     "metadata": {},
     "output_type": "execute_result"
    }
   ],
   "source": [
    "neww / neww"
   ]
  },
  {
   "cell_type": "code",
   "execution_count": 46,
   "id": "bc380dd0-00e7-44b3-a157-7f33d02bcd7c",
   "metadata": {},
   "outputs": [
    {
     "data": {
      "text/plain": [
       "array([[          1,           1,           4,          27,         256,\n",
       "               3125,       46656,      823543,    16777216,   387420489],\n",
       "       [ 1410065408,  1843829075,  -251658240, -1692154371, -1282129920,\n",
       "         1500973039,           0,  1681328401,   457441280,  -306639989],\n",
       "       [          0,   878082373,   977272832, -1276351769,           0,\n",
       "         1296002393,   603979776,  -714244925,           0, -1266004979],\n",
       "       [ 1073741824, -2010103841,           0,   942687265,           0,\n",
       "          618402555,           0,  -200711083,           0,  1583713495],\n",
       "       [          0,  2110296937,           0,   407106611,           0,\n",
       "        -1714755555,           0,  1686099919,           0,    20963633]])"
      ]
     },
     "execution_count": 46,
     "metadata": {},
     "output_type": "execute_result"
    }
   ],
   "source": [
    "neww ** neww"
   ]
  },
  {
   "cell_type": "code",
   "execution_count": null,
   "id": "cb9fd149-33fb-4c74-8dff-b0dc680b7f3f",
   "metadata": {},
   "outputs": [],
   "source": []
  }
 ],
 "metadata": {
  "kernelspec": {
   "display_name": "Python 3 (ipykernel)",
   "language": "python",
   "name": "python3"
  },
  "language_info": {
   "codemirror_mode": {
    "name": "ipython",
    "version": 3
   },
   "file_extension": ".py",
   "mimetype": "text/x-python",
   "name": "python",
   "nbconvert_exporter": "python",
   "pygments_lexer": "ipython3",
   "version": "3.12.4"
  }
 },
 "nbformat": 4,
 "nbformat_minor": 5
}
